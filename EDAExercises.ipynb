{
 "cells": [
  {
   "cell_type": "code",
   "execution_count": 3,
   "id": "dc68d982",
   "metadata": {},
   "outputs": [],
   "source": [
    "# Import pandas package\n",
    "import pandas as pd"
   ]
  },
  {
   "cell_type": "code",
   "execution_count": 4,
   "id": "d10b036b",
   "metadata": {},
   "outputs": [
    {
     "name": "stdout",
     "output_type": "stream",
     "text": [
      "The series values are: [10 20 30 40 50]\n",
      "The index values are: [0 1 2 3 4]\n"
     ]
    }
   ],
   "source": [
    "s1 = pd.Series([10,20,30,40,50])\n",
    "print(\"The series values are:\", s1.values)\n",
    "print(\"The index values are:\", s1.index.values)\n"
   ]
  },
  {
   "cell_type": "code",
   "execution_count": 5,
   "id": "0474d7fb",
   "metadata": {},
   "outputs": [
    {
     "name": "stdout",
     "output_type": "stream",
     "text": [
      "The Marks obtained by student are English    80\n",
      "Science    93\n",
      "Social     78\n",
      "Tamil      85\n",
      "Maths      97\n",
      "dtype: int64\n"
     ]
    }
   ],
   "source": [
    "s2 = pd.Series([80,93,78,85,97], index=['English','Science','Social','Tamil','Maths'])\n",
    "print(\"The Marks obtained by student are\", s2)"
   ]
  },
  {
   "cell_type": "code",
   "execution_count": 6,
   "id": "a289473b",
   "metadata": {},
   "outputs": [
    {
     "data": {
      "text/plain": [
       "1    20\n",
       "2    30\n",
       "3    40\n",
       "dtype: int64"
      ]
     },
     "execution_count": 6,
     "metadata": {},
     "output_type": "execute_result"
    }
   ],
   "source": [
    "# slicing using default integer index\n",
    "s1[1:4]"
   ]
  },
  {
   "cell_type": "code",
   "execution_count": 7,
   "id": "1b1e2846",
   "metadata": {},
   "outputs": [],
   "source": [
    "dict_fruits = { 'Orange':80,\n",
    "          'Apples':210,\n",
    "          'Bananas':50,\n",
    "         'Grapes':90,\n",
    "         'Watermelon':70}"
   ]
  },
  {
   "cell_type": "code",
   "execution_count": 8,
   "id": "c525314c",
   "metadata": {},
   "outputs": [],
   "source": [
    "# Lets convert this dictionary into a series\n",
    "fruits = pd.Series(dict_fruits)"
   ]
  },
  {
   "cell_type": "code",
   "execution_count": 9,
   "id": "4f16ad87",
   "metadata": {},
   "outputs": [
    {
     "name": "stdout",
     "output_type": "stream",
     "text": [
      "Fruits and pricesn Orange         80\n",
      "Apples        210\n",
      "Bananas        50\n",
      "Grapes         90\n",
      "Watermelon     70\n",
      "dtype: int64\n"
     ]
    }
   ],
   "source": [
    "print(\"Fruits and pricesn\", fruits)"
   ]
  },
  {
   "cell_type": "code",
   "execution_count": 10,
   "id": "02ef894d",
   "metadata": {},
   "outputs": [
    {
     "name": "stdout",
     "output_type": "stream",
     "text": [
      "The price per kg of grapes is: 90\n"
     ]
    }
   ],
   "source": [
    "# Slice the series and retrieve price of Grapes\n",
    "print(\"The price per kg of grapes is:\", fruits['Grapes'])"
   ]
  },
  {
   "cell_type": "code",
   "execution_count": 12,
   "id": "789d45bd",
   "metadata": {},
   "outputs": [
    {
     "name": "stdout",
     "output_type": "stream",
     "text": [
      "The dataframe created from series isn          Student1\n",
      "English        80\n",
      "Science        93\n",
      "Social         78\n",
      "Tamil          85\n",
      "Maths          97\n"
     ]
    }
   ],
   "source": [
    "df_marks = pd.DataFrame(s2, columns=['Student1'])\n",
    "print(\"The dataframe created from series isn\",df_marks)"
   ]
  },
  {
   "cell_type": "code",
   "execution_count": 13,
   "id": "aba743cc",
   "metadata": {},
   "outputs": [],
   "source": [
    "# Create Height series (in feet)\n",
    "height = pd.Series([5.3, 6.2,5.8,5.0,5.5], index=['Person 1','Person 2','Person 3','Person 4','Person 5'])\n",
    "# Create Weight Series (in kgs)\n",
    "weight = pd.Series([65,89,75,60,59], index=['Person 1','Person 2','Person 3','Person 4','Person 5'])\n"
   ]
  },
  {
   "cell_type": "code",
   "execution_count": 14,
   "id": "4f0bb26b",
   "metadata": {},
   "outputs": [
    {
     "name": "stdout",
     "output_type": "stream",
     "text": [
      "The Person table details are:n           height  weight\n",
      "Person 1     5.3      65\n",
      "Person 2     6.2      89\n",
      "Person 3     5.8      75\n",
      "Person 4     5.0      60\n",
      "Person 5     5.5      59\n"
     ]
    }
   ],
   "source": [
    "# Create dataframe\n",
    "df_person = pd.DataFrame({'height': height, 'weight': weight})\n",
    "print(\"The Person table details are:n\", df_person)"
   ]
  },
  {
   "cell_type": "code",
   "execution_count": 18,
   "id": "76bba580",
   "metadata": {},
   "outputs": [
    {
     "data": {
      "text/plain": [
       "85"
      ]
     },
     "execution_count": 18,
     "metadata": {},
     "output_type": "execute_result"
    }
   ],
   "source": [
    "s2['Tamil']"
   ]
  },
  {
   "cell_type": "code",
   "execution_count": null,
   "id": "ad1cdd12",
   "metadata": {},
   "outputs": [],
   "source": [
    "# making a change"
   ]
  },
  {
   "cell_type": "code",
   "execution_count": null,
   "id": "6cb851ed",
   "metadata": {},
   "outputs": [],
   "source": []
  }
 ],
 "metadata": {
  "kernelspec": {
   "display_name": "Python 3",
   "language": "python",
   "name": "python3"
  },
  "language_info": {
   "codemirror_mode": {
    "name": "ipython",
    "version": 3
   },
   "file_extension": ".py",
   "mimetype": "text/x-python",
   "name": "python",
   "nbconvert_exporter": "python",
   "pygments_lexer": "ipython3",
   "version": "3.8.8"
  }
 },
 "nbformat": 4,
 "nbformat_minor": 5
}
